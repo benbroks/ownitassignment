{
 "cells": [
  {
   "cell_type": "code",
   "execution_count": 1,
   "metadata": {},
   "outputs": [],
   "source": [
    "import pulp\n",
    "import numpy as np \n",
    "import pandas as pd\n",
    "import math"
   ]
  },
  {
   "cell_type": "code",
   "execution_count": 2,
   "metadata": {},
   "outputs": [],
   "source": [
    "df = pd.read_csv('sampleOwnIt.csv')"
   ]
  },
  {
   "cell_type": "code",
   "execution_count": 8,
   "metadata": {},
   "outputs": [],
   "source": [
    "class OwnItRoomAssigner:\n",
    "    def __init__(self, df,num_rooms,num_attendees):\n",
    "        self.df = df\n",
    "        self.rooms = [i for i in range(1,num_rooms+1)]\n",
    "        self.attendees = [i for i in range(num_attendees)]\n",
    "    \n",
    "    def _pref_value_per_person(self,person_idx,room_idx):\n",
    "        row = self.df.loc[person_idx]\n",
    "        for k in range(1,6):\n",
    "            if room_idx == row[\"Preference {}\".format(k)]:\n",
    "                if row[\"Status\"] == \"Early Bird\":\n",
    "                    return (6-k)/10+1\n",
    "                else:\n",
    "                    return 0\n",
    "                    # return (6-k)/10+1-0.05\n",
    "        return 0\n",
    "\n",
    "    def _solve_lp_problem(self):\n",
    "        self.prob = pulp.LpProblem(\"Matching_OWNIT_Attendees_To_Rooms\", pulp.LpMaximize)\n",
    "        self.y = pulp.LpVariable.dicts(\"pair\", [(i,j) for i in self.attendees for j in self.rooms],cat='Binary')\n",
    "        self.prob += pulp.lpSum([self._pref_value_per_person(i,j) * self.y[(i,j)] for i in self.attendees for j in self.rooms])\n",
    "        # One Person can be in One Room\n",
    "        for i in self.attendees:\n",
    "            self.prob += pulp.lpSum(self.y[(i,j)] for j in self.rooms) <= 1\n",
    "        # Rooms should have a minimum number of attendees\n",
    "        for j in self.rooms:\n",
    "            self.prob  += pulp.lpSum(self.y[(i,j)] for i in self.attendees) >= math.floor(len(self.attendees)/len(self.rooms))\n",
    "        # There should be as many assignments as there are attendees\n",
    "        self.prob += pulp.lpSum(self.y[(i,j)] for i in self.attendees for j in self.rooms) == len(self.attendees)\n",
    "        self.prob.solve()\n",
    "    \n",
    "    def generate_room_assignments(self):\n",
    "        self._solve_lp_problem()\n",
    "        for i in self.attendees:\n",
    "            for j in self.rooms:\n",
    "                if self.y[(i,j)].varValue == 1:\n",
    "                    print('{} is in Room {}'.format(self.df.loc[i,\"Name\"],j))"
   ]
  },
  {
   "cell_type": "code",
   "execution_count": 9,
   "metadata": {},
   "outputs": [],
   "source": [
    "ora = OwnItRoomAssigner(df=df,num_rooms=7,num_attendees=8)"
   ]
  },
  {
   "cell_type": "code",
   "execution_count": 10,
   "metadata": {},
   "outputs": [
    {
     "data": {
      "text/html": [
       "<div>\n",
       "<style scoped>\n",
       "    .dataframe tbody tr th:only-of-type {\n",
       "        vertical-align: middle;\n",
       "    }\n",
       "\n",
       "    .dataframe tbody tr th {\n",
       "        vertical-align: top;\n",
       "    }\n",
       "\n",
       "    .dataframe thead th {\n",
       "        text-align: right;\n",
       "    }\n",
       "</style>\n",
       "<table border=\"1\" class=\"dataframe\">\n",
       "  <thead>\n",
       "    <tr style=\"text-align: right;\">\n",
       "      <th></th>\n",
       "      <th>Name</th>\n",
       "      <th>Status</th>\n",
       "      <th>Preference 1</th>\n",
       "      <th>Preference 2</th>\n",
       "      <th>Preference 3</th>\n",
       "      <th>Preference 4</th>\n",
       "      <th>Preference 5</th>\n",
       "    </tr>\n",
       "  </thead>\n",
       "  <tbody>\n",
       "    <tr>\n",
       "      <th>0</th>\n",
       "      <td>Mitali</td>\n",
       "      <td>Early Bird</td>\n",
       "      <td>1</td>\n",
       "      <td>2</td>\n",
       "      <td>6</td>\n",
       "      <td>4</td>\n",
       "      <td>5</td>\n",
       "    </tr>\n",
       "    <tr>\n",
       "      <th>1</th>\n",
       "      <td>Bibi</td>\n",
       "      <td>Early Bird</td>\n",
       "      <td>1</td>\n",
       "      <td>5</td>\n",
       "      <td>3</td>\n",
       "      <td>4</td>\n",
       "      <td>2</td>\n",
       "    </tr>\n",
       "    <tr>\n",
       "      <th>2</th>\n",
       "      <td>Annie</td>\n",
       "      <td>Regular</td>\n",
       "      <td>1</td>\n",
       "      <td>4</td>\n",
       "      <td>3</td>\n",
       "      <td>2</td>\n",
       "      <td>5</td>\n",
       "    </tr>\n",
       "    <tr>\n",
       "      <th>3</th>\n",
       "      <td>Shirin</td>\n",
       "      <td>Early Bird</td>\n",
       "      <td>3</td>\n",
       "      <td>2</td>\n",
       "      <td>6</td>\n",
       "      <td>1</td>\n",
       "      <td>5</td>\n",
       "    </tr>\n",
       "    <tr>\n",
       "      <th>4</th>\n",
       "      <td>Lindsay</td>\n",
       "      <td>Regular</td>\n",
       "      <td>4</td>\n",
       "      <td>3</td>\n",
       "      <td>1</td>\n",
       "      <td>5</td>\n",
       "      <td>2</td>\n",
       "    </tr>\n",
       "    <tr>\n",
       "      <th>5</th>\n",
       "      <td>Shep</td>\n",
       "      <td>Early Bird</td>\n",
       "      <td>5</td>\n",
       "      <td>2</td>\n",
       "      <td>1</td>\n",
       "      <td>6</td>\n",
       "      <td>7</td>\n",
       "    </tr>\n",
       "    <tr>\n",
       "      <th>6</th>\n",
       "      <td>Lena</td>\n",
       "      <td>Regular</td>\n",
       "      <td>6</td>\n",
       "      <td>2</td>\n",
       "      <td>3</td>\n",
       "      <td>1</td>\n",
       "      <td>4</td>\n",
       "    </tr>\n",
       "    <tr>\n",
       "      <th>7</th>\n",
       "      <td>Ben</td>\n",
       "      <td>Early Bird</td>\n",
       "      <td>1</td>\n",
       "      <td>2</td>\n",
       "      <td>3</td>\n",
       "      <td>4</td>\n",
       "      <td>5</td>\n",
       "    </tr>\n",
       "  </tbody>\n",
       "</table>\n",
       "</div>"
      ],
      "text/plain": [
       "      Name      Status  Preference 1  Preference 2  Preference 3  \\\n",
       "0   Mitali  Early Bird             1             2             6   \n",
       "1     Bibi  Early Bird             1             5             3   \n",
       "2    Annie     Regular             1             4             3   \n",
       "3   Shirin  Early Bird             3             2             6   \n",
       "4  Lindsay     Regular             4             3             1   \n",
       "5     Shep  Early Bird             5             2             1   \n",
       "6     Lena     Regular             6             2             3   \n",
       "7      Ben  Early Bird             1             2             3   \n",
       "\n",
       "   Preference 4  Preference 5  \n",
       "0             4             5  \n",
       "1             4             2  \n",
       "2             2             5  \n",
       "3             1             5  \n",
       "4             5             2  \n",
       "5             6             7  \n",
       "6             1             4  \n",
       "7             4             5  "
      ]
     },
     "execution_count": 10,
     "metadata": {},
     "output_type": "execute_result"
    }
   ],
   "source": [
    "df"
   ]
  },
  {
   "cell_type": "code",
   "execution_count": 7,
   "metadata": {},
   "outputs": [
    {
     "name": "stdout",
     "output_type": "stream",
     "text": [
      "Mitali is in Room 2\n",
      "Bibi is in Room 5\n",
      "Annie is in Room 1\n",
      "Shirin is in Room 3\n",
      "Lindsay is in Room 4\n",
      "Shep is in Room 7\n",
      "Lena is in Room 6\n",
      "Ben is in Room 1\n"
     ]
    }
   ],
   "source": [
    "ora.generate_room_assignments()"
   ]
  },
  {
   "cell_type": "code",
   "execution_count": null,
   "metadata": {},
   "outputs": [],
   "source": [
    "Mitali is in Room 2\n",
    "Bibi is in Room 1\n",
    "Annie is in Room 7\n",
    "Shirin is in Room 3\n",
    "Lindsay is in Room 6\n",
    "Shep is in Room 5\n",
    "Lena is in Room 4\n",
    "Ben is in Room 1"
   ]
  },
  {
   "cell_type": "code",
   "execution_count": null,
   "metadata": {},
   "outputs": [],
   "source": []
  }
 ],
 "metadata": {
  "kernelspec": {
   "display_name": "Python 3",
   "language": "python",
   "name": "python3"
  },
  "language_info": {
   "codemirror_mode": {
    "name": "ipython",
    "version": 3
   },
   "file_extension": ".py",
   "mimetype": "text/x-python",
   "name": "python",
   "nbconvert_exporter": "python",
   "pygments_lexer": "ipython3",
   "version": "3.8.3"
  }
 },
 "nbformat": 4,
 "nbformat_minor": 4
}
